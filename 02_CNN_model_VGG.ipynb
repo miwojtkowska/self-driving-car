{
  "nbformat": 4,
  "nbformat_minor": 0,
  "metadata": {
    "colab": {
      "name": "02_CNN_model_VGG.ipynb",
      "version": "0.3.2",
      "provenance": [],
      "collapsed_sections": []
    },
    "kernelspec": {
      "name": "python3",
      "display_name": "Python 3"
    },
    "accelerator": "GPU"
  },
  "cells": [
    {
      "cell_type": "markdown",
      "metadata": {
        "id": "xzsBhrnPlBXj",
        "colab_type": "text"
      },
      "source": [
        "### Przydzielona karta graficzna"
      ]
    },
    {
      "cell_type": "code",
      "metadata": {
        "id": "g5Z5Dqx-o2lo",
        "colab_type": "code",
        "outputId": "a5db4e24-477e-48db-f76a-1164b840ecf0",
        "colab": {
          "base_uri": "https://localhost:8080/",
          "height": 331
        }
      },
      "source": [
        "!nvidia-smi"
      ],
      "execution_count": 0,
      "outputs": [
        {
          "output_type": "stream",
          "text": [
            "Tue Jun 18 12:20:37 2019       \n",
            "+-----------------------------------------------------------------------------+\n",
            "| NVIDIA-SMI 418.67       Driver Version: 410.79       CUDA Version: 10.0     |\n",
            "|-------------------------------+----------------------+----------------------+\n",
            "| GPU  Name        Persistence-M| Bus-Id        Disp.A | Volatile Uncorr. ECC |\n",
            "| Fan  Temp  Perf  Pwr:Usage/Cap|         Memory-Usage | GPU-Util  Compute M. |\n",
            "|===============================+======================+======================|\n",
            "|   0  Tesla T4            Off  | 00000000:00:04.0 Off |                    0 |\n",
            "| N/A   72C    P0    31W /  70W |      0MiB / 15079MiB |      0%      Default |\n",
            "+-------------------------------+----------------------+----------------------+\n",
            "                                                                               \n",
            "+-----------------------------------------------------------------------------+\n",
            "| Processes:                                                       GPU Memory |\n",
            "|  GPU       PID   Type   Process name                             Usage      |\n",
            "|=============================================================================|\n",
            "|  No running processes found                                                 |\n",
            "+-----------------------------------------------------------------------------+\n"
          ],
          "name": "stdout"
        }
      ]
    },
    {
      "cell_type": "markdown",
      "metadata": {
        "id": "qwFf_yjRlGEW",
        "colab_type": "text"
      },
      "source": [
        "### Import bibliotek"
      ]
    },
    {
      "cell_type": "code",
      "metadata": {
        "id": "dYr8AbGUpKFF",
        "colab_type": "code",
        "colab": {}
      },
      "source": [
        "import numpy as np\n",
        "import matplotlib.pyplot as plt\n",
        "!pip install imgaug\n",
        "!pip install scikit-learn\n",
        "from imgaug import augmenters as iaa\n",
        "from imgaug import parameters as iap\n",
        "import random\n",
        "import pandas as pd\n",
        "\n",
        "from sklearn.model_selection import train_test_split\n",
        "\n",
        "%matplotlib inline"
      ],
      "execution_count": 0,
      "outputs": []
    },
    {
      "cell_type": "code",
      "metadata": {
        "id": "2cPWqVJHpKHn",
        "colab_type": "code",
        "colab": {}
      },
      "source": [
        "from keras.models import Sequential\n",
        "from keras.layers import Conv2D, Flatten, Dense, Dropout, MaxPooling2D, Lambda\n",
        "\n",
        "!pip install livelossplot\n",
        "from livelossplot import PlotLossesKeras\n",
        "from livelossplot.keras import PlotLossesCallback\n"
      ],
      "execution_count": 0,
      "outputs": []
    },
    {
      "cell_type": "markdown",
      "metadata": {
        "id": "qiHIgZnvlKKu",
        "colab_type": "text"
      },
      "source": [
        "### Wczytanie tensorów X i y"
      ]
    },
    {
      "cell_type": "code",
      "metadata": {
        "id": "M7pnEHm3pKJ7",
        "colab_type": "code",
        "colab": {}
      },
      "source": [
        "X = np.load('X.npy')\n",
        "y = np.load('y.npy')"
      ],
      "execution_count": 0,
      "outputs": []
    },
    {
      "cell_type": "code",
      "metadata": {
        "id": "H74FrZlnpKMR",
        "colab_type": "code",
        "colab": {}
      },
      "source": [
        "print(X.shape, y.shape)"
      ],
      "execution_count": 0,
      "outputs": []
    },
    {
      "cell_type": "markdown",
      "metadata": {
        "id": "4JyxJlDUlN_h",
        "colab_type": "text"
      },
      "source": [
        "### Zdefiniowanie parametrów augmentacji"
      ]
    },
    {
      "cell_type": "code",
      "metadata": {
        "id": "hUyeaN9apKOr",
        "colab_type": "code",
        "outputId": "92d9415f-6c1f-4352-da22-339262c62047",
        "colab": {
          "base_uri": "https://localhost:8080/",
          "height": 416
        }
      },
      "source": [
        "def augment(img, steering_angle):\n",
        "  ##flip\n",
        "  if random.random() > 0.5:\n",
        "    img = img[:, ::-1, :]\n",
        "    steering_angle = -steering_angle\n",
        "  \n",
        "  ##blur\n",
        "  blurer = iaa.GaussianBlur(iap.Uniform(0.1, 2))\n",
        "  img = blurer.augment_image(img)\n",
        "  \n",
        "  ##contrast\n",
        "  contrast = iaa.GammaContrast((0.5,2.0))\n",
        "  img = contrast.augment_image(img)\n",
        "  \n",
        "  ##channel shuffle\n",
        "  sh = iaa.ChannelShuffle(p=0.4)\n",
        "  img = sh.augment_image(img)\n",
        "  \n",
        "  #snow = iaa.Snowflakes(density=(0.03,0.075))\n",
        "  #img = snow.augment_image(img)\n",
        "  \n",
        "  ##fog\n",
        "  fog = iaa.Fog()\n",
        "  img = fog.augment_image(img)\n",
        "  \n",
        "  #translate\n",
        "  tx = random.randint(-20,20)\n",
        "  translater = iaa.Affine(translate_px={\"x\":tx}, mode = \"edge\")\n",
        "  steering_angle += tx*0.025\n",
        "  \n",
        "  img = translater.augment_image(img)\n",
        "    \n",
        "  return img, steering_angle\n",
        "  \n",
        "plt.imshow(X[0])\n",
        "print(y[0])\n",
        "plt.show();\n",
        "  \n",
        "img, angle = augment(X[0], y[0])\n",
        "plt.imshow(img)\n",
        "print(angle)\n",
        "plt.show();"
      ],
      "execution_count": 0,
      "outputs": [
        {
          "output_type": "stream",
          "text": [
            "0.0\n"
          ],
          "name": "stdout"
        },
        {
          "output_type": "display_data",
          "data": {
            "image/png": "[encoded data removed]",
            "text/plain": [
              "<Figure size 432x288 with 1 Axes>"
            ]
          },
          "metadata": {
            "tags": []
          }
        },
        {
          "output_type": "stream",
          "text": [
            "-0.42500000000000004\n"
          ],
          "name": "stdout"
        },
        {
          "output_type": "display_data",
          "data": {
            "image/png": "[encoded data removed]",
            "text/plain": [
              "<Figure size 432x288 with 1 Axes>"
            ]
          },
          "metadata": {
            "tags": []
          }
        }
      ]
    },
    {
      "cell_type": "markdown",
      "metadata": {
        "id": "YCzoBhtDlWip",
        "colab_type": "text"
      },
      "source": [
        "### Podział danych X i y na zbiór treningowy i walidacyjny"
      ]
    },
    {
      "cell_type": "code",
      "metadata": {
        "id": "UdkOfKJIpKQ5",
        "colab_type": "code",
        "colab": {}
      },
      "source": [
        "X_train, X_val, y_train, y_val = train_test_split(X, y, test_size=0.20, random_state=10)"
      ],
      "execution_count": 0,
      "outputs": []
    },
    {
      "cell_type": "code",
      "metadata": {
        "id": "OV-_I-3apKTT",
        "colab_type": "code",
        "colab": {}
      },
      "source": [
        "print(X_train.shape, y_train.shape)\n",
        "print(X_val.shape, y_val.shape)"
      ],
      "execution_count": 0,
      "outputs": []
    },
    {
      "cell_type": "markdown",
      "metadata": {
        "id": "R7bLhSKfldMX",
        "colab_type": "text"
      },
      "source": [
        "### Augmentacja danych"
      ]
    },
    {
      "cell_type": "code",
      "metadata": {
        "id": "SjPP1w6TpKVi",
        "colab_type": "code",
        "colab": {}
      },
      "source": [
        "Xgen=[]\n",
        "ygen=[]\n",
        "\n",
        "\n",
        "for i in range(X_train.shape[0]):\n",
        "  img,angle = augment(X[i],y[i])\n",
        "  Xgen.append(img)\n",
        "  ygen.append(angle)\n",
        "  \n",
        "  \n",
        "Xgen = np.array(Xgen)\n",
        "ygen = np.array(ygen)\n",
        "print(Xgen.shape, ygen.shape)"
      ],
      "execution_count": 0,
      "outputs": []
    },
    {
      "cell_type": "markdown",
      "metadata": {
        "id": "JAcGBOq5lhND",
        "colab_type": "text"
      },
      "source": [
        "### Porównanie histogramów y przed i po augmentacji"
      ]
    },
    {
      "cell_type": "code",
      "metadata": {
        "id": "zuBm2bUzpKcZ",
        "colab_type": "code",
        "outputId": "c25f2c0f-504c-4073-e8b4-8e061100ea87",
        "colab": {
          "base_uri": "https://localhost:8080/",
          "height": 337
        }
      },
      "source": [
        "plt.figure(figsize=(10,5))\n",
        "plt.hist(y_train, 50, facecolor='green');\n",
        "plt.hist(ygen, 50, facecolor='red');\n",
        "plt.xlabel('Steering angle');\n",
        "plt.ylabel('Number of observations');\n",
        "plt.legend(['Data before augmentation','Data after modification']);\n",
        "plt.show()"
      ],
      "execution_count": 0,
      "outputs": [
        {
          "output_type": "display_data",
          "data": {
            "image/png": "[encoded data removed]",
            "text/plain": [
              "<Figure size 720x360 with 1 Axes>"
            ]
          },
          "metadata": {
            "tags": []
          }
        }
      ]
    },
    {
      "cell_type": "code",
      "metadata": {
        "id": "xua66vrMHKJo",
        "colab_type": "code",
        "colab": {}
      },
      "source": [
        "print(Xgen.shape)\n",
        "print(X_val.shape)"
      ],
      "execution_count": 0,
      "outputs": []
    },
    {
      "cell_type": "markdown",
      "metadata": {
        "id": "RVq1owAllpXv",
        "colab_type": "text"
      },
      "source": [
        "### Budowa architektury CNN"
      ]
    },
    {
      "cell_type": "code",
      "metadata": {
        "id": "OcHwXVV5FaIn",
        "colab_type": "code",
        "colab": {}
      },
      "source": [
        "# VGG-16 ORYGINALNY\n",
        "def myModel(input_shape):\n",
        "  model = Sequential([\n",
        "      Lambda(lambda x: (x-128.0)/255.0, input_shape = input_shape, \n",
        "             name='normalize'),\n",
        "      #obraz wejściowy 45x80\n",
        "      \n",
        "      Conv2D(64,(3,3), activation = 'relu'), #43x78\n",
        "      Conv2D(64,(3,3), activation = 'relu'), #41x76\n",
        "      MaxPooling2D(pool_size=(2,2)), #20x38\n",
        "\n",
        "      Conv2D(128,(3,3), activation = 'relu'), #18x36\n",
        "      Conv2D(128,(3,3), activation = 'relu'), #16x34\n",
        "      MaxPooling2D(pool_size=(2,2)), #8x17\n",
        "           \n",
        "      Conv2D(256,(3,3), activation = 'relu'), #6x15\n",
        "      Conv2D(256,(3,3), activation = 'relu'), #4x13\n",
        "      Conv2D(256,(3,3), activation = 'relu'), #2x11\n",
        "      MaxPooling2D(pool_size=(2,2)),\n",
        "      \n",
        "      Conv2D(512,(3,3), activation = 'relu'),\n",
        "      Conv2D(512,(3,3), activation = 'relu'),\n",
        "      Conv2D(512,(3,3), activation = 'relu'),\n",
        "      MaxPooling2D(pool_size=(2,2)),\n",
        "      \n",
        "      Conv2D(512,(3,3), activation = 'relu'),\n",
        "      Conv2D(512,(3,3), activation = 'relu'),\n",
        "      Conv2D(512,(3,3), activation = 'relu'),\n",
        "      MaxPooling2D(pool_size=(2,2)),\n",
        "     \n",
        "      Flatten(),\n",
        "      \n",
        "      Dense(4096, activation = 'relu'),\n",
        "      Dense(4096, activation = 'relu'),\n",
        "      Dense(100, activation = 'relu'),\n",
        "      Dense(1)\n",
        "  ])\n",
        "  return model\n",
        "model = myModel(X[0].shape)\n"
      ],
      "execution_count": 0,
      "outputs": []
    },
    {
      "cell_type": "markdown",
      "metadata": {
        "id": "7Yeg5QfCltDJ",
        "colab_type": "text"
      },
      "source": [
        "### Kompilacja modelu"
      ]
    },
    {
      "cell_type": "code",
      "metadata": {
        "id": "-qI09Sni0R5g",
        "colab_type": "code",
        "outputId": "2d518c3d-d267-4156-bb10-7a3810fb863e",
        "colab": {
          "base_uri": "https://localhost:8080/",
          "height": 664
        }
      },
      "source": [
        "model.compile(optimizer='adam', \n",
        "              loss='mean_squared_error')\n",
        "model.summary()"
      ],
      "execution_count": 0,
      "outputs": [
        {
          "output_type": "stream",
          "text": [
            "_________________________________________________________________\n",
            "Layer (type)                 Output Shape              Param #   \n",
            "=================================================================\n",
            "normalize (Lambda)           (None, 35, 80, 3)         0         \n",
            "_________________________________________________________________\n",
            "conv2d_163 (Conv2D)          (None, 33, 78, 64)        1792      \n",
            "_________________________________________________________________\n",
            "conv2d_164 (Conv2D)          (None, 31, 76, 64)        36928     \n",
            "_________________________________________________________________\n",
            "max_pooling2d_54 (MaxPooling (None, 15, 38, 64)        0         \n",
            "_________________________________________________________________\n",
            "conv2d_165 (Conv2D)          (None, 13, 36, 128)       73856     \n",
            "_________________________________________________________________\n",
            "conv2d_166 (Conv2D)          (None, 11, 34, 128)       147584    \n",
            "_________________________________________________________________\n",
            "max_pooling2d_55 (MaxPooling (None, 5, 17, 128)        0         \n",
            "_________________________________________________________________\n",
            "conv2d_167 (Conv2D)          (None, 3, 15, 256)        295168    \n",
            "_________________________________________________________________\n",
            "conv2d_168 (Conv2D)          (None, 1, 13, 256)        590080    \n",
            "_________________________________________________________________\n",
            "flatten_18 (Flatten)         (None, 3328)              0         \n",
            "_________________________________________________________________\n",
            "dense_69 (Dense)             (None, 4096)              13635584  \n",
            "_________________________________________________________________\n",
            "dense_70 (Dense)             (None, 4096)              16781312  \n",
            "_________________________________________________________________\n",
            "dense_71 (Dense)             (None, 100)               409700    \n",
            "_________________________________________________________________\n",
            "dense_72 (Dense)             (None, 1)                 101       \n",
            "=================================================================\n",
            "Total params: 31,972,105\n",
            "Trainable params: 31,972,105\n",
            "Non-trainable params: 0\n",
            "_________________________________________________________________\n"
          ],
          "name": "stdout"
        }
      ]
    },
    {
      "cell_type": "markdown",
      "metadata": {
        "id": "x_46KnuSlykd",
        "colab_type": "text"
      },
      "source": [
        "### Trenowanie modelu"
      ]
    },
    {
      "cell_type": "code",
      "metadata": {
        "id": "9Sv-epZx0ph7",
        "colab_type": "code",
        "colab": {}
      },
      "source": [
        "batch_size = 512\n",
        "epochs =15\n",
        "\n",
        "history = model.fit(Xgen, ygen,\n",
        "         batch_size=batch_size,\n",
        "         epochs=epochs,\n",
        "         validation_data=(X_val, y_val),\n",
        "         callbacks=[PlotLossesCallback()],\n",
        "         verbose=2)\n"
      ],
      "execution_count": 0,
      "outputs": []
    },
    {
      "cell_type": "markdown",
      "metadata": {
        "id": "yB0OWsRal2lq",
        "colab_type": "text"
      },
      "source": [
        "### Predykcja y "
      ]
    },
    {
      "cell_type": "code",
      "metadata": {
        "id": "iAr9dIxapKjz",
        "colab_type": "code",
        "outputId": "e0713580-9430-4b25-b36e-5c7be9838c71",
        "colab": {
          "base_uri": "https://localhost:8080/",
          "height": 283
        }
      },
      "source": [
        "y_pred = model.predict(X)\n",
        "\n",
        "plt.figure()\n",
        "plt.plot(y,'g', y_pred,'r')\n",
        "plt.xlabel('Image number');\n",
        "plt.ylabel('Steering angle');\n",
        "plt.legend(['y','y_pred']);\n",
        "\n",
        "plt.show();"
      ],
      "execution_count": 0,
      "outputs": [
        {
          "output_type": "display_data",
          "data": {
            "image/png": "[encoded data removed]",
            "text/plain": [
              "<Figure size 432x288 with 1 Axes>"
            ]
          },
          "metadata": {
            "tags": []
          }
        }
      ]
    },
    {
      "cell_type": "markdown",
      "metadata": {
        "id": "nA0Vunyxl7t5",
        "colab_type": "text"
      },
      "source": [
        "### Zapis modelu"
      ]
    },
    {
      "cell_type": "code",
      "metadata": {
        "id": "UAFqTtXXpKmL",
        "colab_type": "code",
        "colab": {}
      },
      "source": [
        "model.save('cnn_model_vgg16mod_b512_e15_relu.h5')"
      ],
      "execution_count": 0,
      "outputs": []
    },
    {
      "cell_type": "markdown",
      "metadata": {
        "id": "OhpiHck7l-XM",
        "colab_type": "text"
      },
      "source": [
        "### Własna modyfikacja modelu VGG"
      ]
    },
    {
      "cell_type": "code",
      "metadata": {
        "id": "1YXk-IhEr0ve",
        "colab_type": "code",
        "colab": {}
      },
      "source": [
        "# VGG-16 MODYFIKACJA\n",
        "def myModel(input_shape):\n",
        "  model = Sequential([\n",
        "      Lambda(lambda x: (x-128.0)/255.0, input_shape = input_shape, \n",
        "             name='normalize'),\n",
        "      #obraz wejściowy 45x80\n",
        "      \n",
        "      Conv2D(64,(3,3), activation = 'relu'), #43x78\n",
        "      Conv2D(64,(3,3), activation = 'relu'), #41x76\n",
        "      MaxPooling2D(pool_size=(2,2)), #20x38\n",
        "\n",
        "      Conv2D(128,(3,3), activation = 'relu'), #18x36\n",
        "      Conv2D(128,(3,3), activation = 'relu'), #16x34\n",
        "      MaxPooling2D(pool_size=(2,2)), #8x17\n",
        "           \n",
        "      Conv2D(256,(3,3), activation = 'relu'), #6x15\n",
        "      Conv2D(256,(3,3), activation = 'relu'), #4x13\n",
        "      #Conv2D(256,(3,3), activation = 'relu'), #2x11\n",
        "      #MaxPooling2D(pool_size=(2,2)),\n",
        "      \n",
        "      #Conv2D(512,(3,3), activation = 'relu'),\n",
        "      #Conv2D(512,(3,3), activation = 'relu'),\n",
        "      #Conv2D(512,(3,3), activation = 'relu'),\n",
        "      #MaxPooling2D(pool_size=(2,2)),\n",
        "      \n",
        "      #Conv2D(512,(3,3), activation = 'relu'),\n",
        "      #Conv2D(512,(3,3), activation = 'relu'),\n",
        "      #Conv2D(512,(3,3), activation = 'relu'),\n",
        "      #MaxPooling2D(pool_size=(2,2)),\n",
        "     \n",
        "      Flatten(),\n",
        "      \n",
        "      Dense(4096, activation = 'relu'),\n",
        "      Dense(4096, activation = 'relu'),\n",
        "      Dense(100, activation = 'relu'),\n",
        "      Dense(1)\n",
        "  ])\n",
        "  return model\n",
        "model = myModel(X[0].shape)"
      ],
      "execution_count": 0,
      "outputs": []
    },
    {
      "cell_type": "markdown",
      "metadata": {
        "id": "WrFVlSVfmF8b",
        "colab_type": "text"
      },
      "source": [
        "### Kompilacja modelu"
      ]
    },
    {
      "cell_type": "code",
      "metadata": {
        "id": "P4cyzZR4pKto",
        "colab_type": "code",
        "outputId": "037d5011-3365-4dde-f217-a6844bed5e5d",
        "colab": {
          "base_uri": "https://localhost:8080/",
          "height": 721
        }
      },
      "source": [
        "model.compile(optimizer='adam', \n",
        "              loss='mean_squared_error')\n",
        "model.summary()"
      ],
      "execution_count": 0,
      "outputs": [
        {
          "output_type": "stream",
          "text": [
            "W0618 12:39:06.827215 140431232288640 deprecation_wrapper.py:119] From /usr/local/lib/python3.6/dist-packages/keras/optimizers.py:790: The name tf.train.Optimizer is deprecated. Please use tf.compat.v1.train.Optimizer instead.\n",
            "\n"
          ],
          "name": "stderr"
        },
        {
          "output_type": "stream",
          "text": [
            "_________________________________________________________________\n",
            "Layer (type)                 Output Shape              Param #   \n",
            "=================================================================\n",
            "normalize (Lambda)           (None, 35, 80, 3)         0         \n",
            "_________________________________________________________________\n",
            "conv2d_9 (Conv2D)            (None, 33, 78, 64)        1792      \n",
            "_________________________________________________________________\n",
            "conv2d_10 (Conv2D)           (None, 31, 76, 64)        36928     \n",
            "_________________________________________________________________\n",
            "max_pooling2d_3 (MaxPooling2 (None, 15, 38, 64)        0         \n",
            "_________________________________________________________________\n",
            "conv2d_11 (Conv2D)           (None, 13, 36, 128)       73856     \n",
            "_________________________________________________________________\n",
            "conv2d_12 (Conv2D)           (None, 11, 34, 128)       147584    \n",
            "_________________________________________________________________\n",
            "max_pooling2d_4 (MaxPooling2 (None, 5, 17, 128)        0         \n",
            "_________________________________________________________________\n",
            "conv2d_13 (Conv2D)           (None, 3, 15, 256)        295168    \n",
            "_________________________________________________________________\n",
            "conv2d_14 (Conv2D)           (None, 1, 13, 256)        590080    \n",
            "_________________________________________________________________\n",
            "flatten_2 (Flatten)          (None, 3328)              0         \n",
            "_________________________________________________________________\n",
            "dense_5 (Dense)              (None, 4096)              13635584  \n",
            "_________________________________________________________________\n",
            "dense_6 (Dense)              (None, 4096)              16781312  \n",
            "_________________________________________________________________\n",
            "dense_7 (Dense)              (None, 100)               409700    \n",
            "_________________________________________________________________\n",
            "dense_8 (Dense)              (None, 1)                 101       \n",
            "=================================================================\n",
            "Total params: 31,972,105\n",
            "Trainable params: 31,972,105\n",
            "Non-trainable params: 0\n",
            "_________________________________________________________________\n"
          ],
          "name": "stdout"
        }
      ]
    },
    {
      "cell_type": "markdown",
      "metadata": {
        "id": "2TSU9ScpmK96",
        "colab_type": "text"
      },
      "source": [
        "### Trenowanie modelu"
      ]
    },
    {
      "cell_type": "code",
      "metadata": {
        "id": "sy0oNaMK7rx4",
        "colab_type": "code",
        "colab": {}
      },
      "source": [
        "batch_size = 512\n",
        "epochs =15\n",
        "\n",
        "history = model.fit(Xgen, ygen,\n",
        "         batch_size=batch_size,\n",
        "         epochs=epochs,\n",
        "         validation_data=(X_val, y_val),\n",
        "         callbacks=[PlotLossesCallback()],\n",
        "         verbose=2)\n"
      ],
      "execution_count": 0,
      "outputs": []
    },
    {
      "cell_type": "markdown",
      "metadata": {
        "id": "ij1pL-s_mPk5",
        "colab_type": "text"
      },
      "source": [
        "### Predykcja y"
      ]
    },
    {
      "cell_type": "code",
      "metadata": {
        "id": "XbVQ2OG88qh7",
        "colab_type": "code",
        "outputId": "660cedcc-2ddc-43ed-b65f-5457143b25f9",
        "colab": {
          "base_uri": "https://localhost:8080/",
          "height": 283
        }
      },
      "source": [
        "y_pred = model.predict(X)\n",
        "\n",
        "plt.figure()\n",
        "plt.plot(y,'g', y_pred,'r')\n",
        "plt.xlabel('Image number');\n",
        "plt.ylabel('Steering angle');\n",
        "plt.legend(['y','y_pred']);\n",
        "\n",
        "plt.show();"
      ],
      "execution_count": 0,
      "outputs": [
        {
          "output_type": "display_data",
          "data": {
            "image/png": "[encoded data removed]",
            "text/plain": [
              "<Figure size 432x288 with 1 Axes>"
            ]
          },
          "metadata": {
            "tags": []
          }
        }
      ]
    },
    {
      "cell_type": "markdown",
      "metadata": {
        "id": "lNe9PZDAmTcG",
        "colab_type": "text"
      },
      "source": [
        "### Zapis modelu"
      ]
    },
    {
      "cell_type": "code",
      "metadata": {
        "id": "S5Vpuva_8tIY",
        "colab_type": "code",
        "colab": {}
      },
      "source": [
        "model.save('cnn_model_vgg16mod_b512_e15_relu.h5')"
      ],
      "execution_count": 0,
      "outputs": []
    }
  ]
}