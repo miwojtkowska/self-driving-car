{
  "nbformat": 4,
  "nbformat_minor": 0,
  "metadata": {
    "colab": {
      "name": "01_CNN_model_NVIDIA.ipynb",
      "version": "0.3.2",
      "provenance": [],
      "collapsed_sections": []
    },
    "kernelspec": {
      "name": "python3",
      "display_name": "Python 3"
    },
    "accelerator": "GPU"
  },
  "cells": [
    {
      "cell_type": "markdown",
      "metadata": {
        "id": "BHAx0v6JhAId",
        "colab_type": "text"
      },
      "source": [
        "### Przydzielona karta graficzna:"
      ]
    },
    {
      "cell_type": "code",
      "metadata": {
        "id": "g5Z5Dqx-o2lo",
        "colab_type": "code",
        "outputId": "f7216a59-f2d2-4d36-fc05-b3949e5a9fa6",
        "colab": {
          "base_uri": "https://localhost:8080/",
          "height": 331
        }
      },
      "source": [
        "!nvidia-smi"
      ],
      "execution_count": 0,
      "outputs": [
        {
          "output_type": "stream",
          "text": [
            "Thu Jun 20 09:49:20 2019       \n",
            "+-----------------------------------------------------------------------------+\n",
            "| NVIDIA-SMI 418.67       Driver Version: 410.79       CUDA Version: 10.0     |\n",
            "|-------------------------------+----------------------+----------------------+\n",
            "| GPU  Name        Persistence-M| Bus-Id        Disp.A | Volatile Uncorr. ECC |\n",
            "| Fan  Temp  Perf  Pwr:Usage/Cap|         Memory-Usage | GPU-Util  Compute M. |\n",
            "|===============================+======================+======================|\n",
            "|   0  Tesla T4            Off  | 00000000:00:04.0 Off |                    0 |\n",
            "| N/A   65C    P8    17W /  70W |      0MiB / 15079MiB |      0%      Default |\n",
            "+-------------------------------+----------------------+----------------------+\n",
            "                                                                               \n",
            "+-----------------------------------------------------------------------------+\n",
            "| Processes:                                                       GPU Memory |\n",
            "|  GPU       PID   Type   Process name                             Usage      |\n",
            "|=============================================================================|\n",
            "|  No running processes found                                                 |\n",
            "+-----------------------------------------------------------------------------+\n"
          ],
          "name": "stdout"
        }
      ]
    },
    {
      "cell_type": "markdown",
      "metadata": {
        "id": "J-Q62LnhhZER",
        "colab_type": "text"
      },
      "source": [
        "### Import bibliotek"
      ]
    },
    {
      "cell_type": "code",
      "metadata": {
        "id": "dYr8AbGUpKFF",
        "colab_type": "code",
        "colab": {}
      },
      "source": [
        "import numpy as np\n",
        "import matplotlib.pyplot as plt\n",
        "!pip install imgaug\n",
        "!pip install scikit-learn\n",
        "from imgaug import augmenters as iaa\n",
        "from imgaug import parameters as iap\n",
        "import random\n",
        "import pandas as pd\n",
        "\n",
        "from sklearn.model_selection import train_test_split\n",
        "\n",
        "%matplotlib inline\n",
        "np.random.seed(100)"
      ],
      "execution_count": 0,
      "outputs": []
    },
    {
      "cell_type": "markdown",
      "metadata": {
        "id": "-741_WhRhkvV",
        "colab_type": "text"
      },
      "source": [
        "### Import bibliotek do budowy CNN"
      ]
    },
    {
      "cell_type": "code",
      "metadata": {
        "id": "2cPWqVJHpKHn",
        "colab_type": "code",
        "colab": {}
      },
      "source": [
        "from keras.models import Sequential\n",
        "from keras.layers import Conv2D, Flatten, Dense, Dropout, MaxPooling2D, Lambda\n",
        "\n",
        "!pip install livelossplot\n",
        "from livelossplot import PlotLossesKeras\n",
        "from livelossplot.keras import PlotLossesCallback\n"
      ],
      "execution_count": 0,
      "outputs": []
    },
    {
      "cell_type": "markdown",
      "metadata": {
        "id": "CD3SUV1xiC0A",
        "colab_type": "text"
      },
      "source": [
        "### Wczytanie tensorów X i y "
      ]
    },
    {
      "cell_type": "code",
      "metadata": {
        "id": "M7pnEHm3pKJ7",
        "colab_type": "code",
        "colab": {}
      },
      "source": [
        "X = np.load('X.npy')\n",
        "y = np.load('y.npy')"
      ],
      "execution_count": 0,
      "outputs": []
    },
    {
      "cell_type": "code",
      "metadata": {
        "id": "H74FrZlnpKMR",
        "colab_type": "code",
        "colab": {}
      },
      "source": [
        "print(X.shape, y.shape)"
      ],
      "execution_count": 0,
      "outputs": []
    },
    {
      "cell_type": "markdown",
      "metadata": {
        "id": "sJ1_ledyiKrd",
        "colab_type": "text"
      },
      "source": [
        "### Zdefiniowanie parametrów augmentacji danych"
      ]
    },
    {
      "cell_type": "code",
      "metadata": {
        "id": "hUyeaN9apKOr",
        "colab_type": "code",
        "colab": {}
      },
      "source": [
        "def augment(img, steering_angle):\n",
        "  \n",
        "  ## flip\n",
        "  if random.random() > 0.5:\n",
        "    img = img[:, ::-1, :]\n",
        "    steering_angle = -steering_angle\n",
        "  \n",
        "  ## blur\n",
        "  blurer = iaa.GaussianBlur(iap.Uniform(0.1, 2))\n",
        "  img = blurer.augment_image(img)\n",
        "  \n",
        "  ## contrast\n",
        "  contrast = iaa.GammaContrast((0.5,2.0))\n",
        "  img = contrast.augment_image(img)\n",
        "  \n",
        "  ## channel shuffle\n",
        "  sh = iaa.ChannelShuffle(p=0.4)\n",
        "  img = sh.augment_image(img)\n",
        "  \n",
        "  #snow = iaa.Snowflakes(density=(0.03,0.075))\n",
        "  #img = snow.augment_image(img)\n",
        "  \n",
        "  ## fog\n",
        "  fog = iaa.Fog()\n",
        "  img = fog.augment_image(img)\n",
        "  \n",
        "  # translate\n",
        "  tx = random.randint(-20,20)\n",
        "  translater = iaa.Affine(translate_px={\"x\":tx}, mode = \"edge\")\n",
        "  steering_angle += tx*0.025\n",
        "  \n",
        "  img = translater.augment_image(img)\n",
        "    \n",
        "  return img, steering_angle\n",
        "  \n",
        "\n",
        "# wyświetlenie przykładowego obrazu przed i po zmianie  \n",
        "plt.imshow(X[0])\n",
        "print(y[0])\n",
        "plt.show();\n",
        "  \n",
        "img, angle = augment(X[0], y[0])\n",
        "plt.imshow(img)\n",
        "print(angle)\n",
        "plt.show();"
      ],
      "execution_count": 0,
      "outputs": []
    },
    {
      "cell_type": "markdown",
      "metadata": {
        "id": "DVZkai3YikZN",
        "colab_type": "text"
      },
      "source": [
        "### Podział tensorów X i y na zbiór treningowy i walidacyjny"
      ]
    },
    {
      "cell_type": "code",
      "metadata": {
        "id": "UdkOfKJIpKQ5",
        "colab_type": "code",
        "colab": {}
      },
      "source": [
        "X_train, X_val, y_train, y_val = train_test_split(X, y, test_size=0.20, random_state=10)"
      ],
      "execution_count": 0,
      "outputs": []
    },
    {
      "cell_type": "code",
      "metadata": {
        "id": "OV-_I-3apKTT",
        "colab_type": "code",
        "outputId": "59177bf9-70cc-429a-fdb1-7805da513218",
        "colab": {
          "base_uri": "https://localhost:8080/",
          "height": 54
        }
      },
      "source": [
        "print(X_train.shape, y_train.shape)\n",
        "print(X_val.shape, y_val.shape)"
      ],
      "execution_count": 0,
      "outputs": [
        {
          "output_type": "stream",
          "text": [
            "(11412, 35, 80, 3) (11412,)\n",
            "(2853, 35, 80, 3) (2853,)\n"
          ],
          "name": "stdout"
        }
      ]
    },
    {
      "cell_type": "markdown",
      "metadata": {
        "id": "E-3s5wsFi2Zz",
        "colab_type": "text"
      },
      "source": [
        "### Augmentacja danych"
      ]
    },
    {
      "cell_type": "code",
      "metadata": {
        "id": "SjPP1w6TpKVi",
        "colab_type": "code",
        "colab": {}
      },
      "source": [
        "Xgen=[]\n",
        "ygen=[]\n",
        "\n",
        "\n",
        "for i in range(X_train.shape[0]):\n",
        "  img,angle = augment(X[i],y[i])\n",
        "  Xgen.append(img)\n",
        "  ygen.append(angle)\n",
        "  \n",
        "  \n",
        "Xgen = np.array(Xgen)\n",
        "ygen = np.array(ygen)\n",
        "print(Xgen.shape, ygen.shape)"
      ],
      "execution_count": 0,
      "outputs": []
    },
    {
      "cell_type": "markdown",
      "metadata": {
        "id": "-UnpfE3Ci9Cl",
        "colab_type": "text"
      },
      "source": [
        "### Porównanie histogramów kąta sterowania przed i po augmentacji"
      ]
    },
    {
      "cell_type": "code",
      "metadata": {
        "id": "zuBm2bUzpKcZ",
        "colab_type": "code",
        "outputId": "0c7054ca-12a9-497c-d732-81e492c59dbc",
        "colab": {
          "base_uri": "https://localhost:8080/",
          "height": 337
        }
      },
      "source": [
        "plt.figure(figsize=(10,5))\n",
        "plt.hist(y_train, 50, facecolor='green');\n",
        "plt.hist(ygen, 50, facecolor='red');\n",
        "plt.xlabel('Steering angle');\n",
        "plt.ylabel('Number of observations');\n",
        "plt.legend(['Data before augmentation','Data after modification']);\n",
        "plt.show()"
      ],
      "execution_count": 0,
      "outputs": [
        {
          "output_type": "display_data",
          "data": {
            "image/png": "[encoded data removed]",
            "text/plain": [
              "<Figure size 720x360 with 1 Axes>"
            ]
          },
          "metadata": {
            "tags": []
          }
        }
      ]
    },
    {
      "cell_type": "markdown",
      "metadata": {
        "id": "Gcv2_jeEjIIk",
        "colab_type": "text"
      },
      "source": [
        "### Budowa architektury CNN"
      ]
    },
    {
      "cell_type": "code",
      "metadata": {
        "id": "OcHwXVV5FaIn",
        "colab_type": "code",
        "colab": {}
      },
      "source": [
        "# NVIDIA ORYGINALNA\n",
        "def myModel(input_shape):\n",
        "  model = Sequential([\n",
        "      Lambda(lambda x: (x-128.0)/255.0, input_shape = input_shape, \n",
        "             name='normalize'),\n",
        "      \n",
        "      Conv2D(24,(5,5), activation = 'relu',strides=(2,2)),\n",
        "      Conv2D(36,(5,5), activation = 'relu',strides=(2,2)),         \n",
        "      Conv2D(48,(3,3), activation = 'relu',strides=(1,1)),\n",
        "      Conv2D(64,(3,3), activation = 'relu',strides=(1,1)),\n",
        "      \n",
        "      Flatten(),\n",
        "      \n",
        "      Dense(100, activation = 'elu'),\n",
        "      Dense(50, activation = 'elu'),\n",
        "      Dense(10, activation = 'elu'),\n",
        "      Dense(1)\n",
        "  ])\n",
        "  return model\n",
        "model = myModel(X[0].shape)\n"
      ],
      "execution_count": 0,
      "outputs": []
    },
    {
      "cell_type": "markdown",
      "metadata": {
        "id": "njcsfG-JjOAa",
        "colab_type": "text"
      },
      "source": [
        "### Kompilacja modelu"
      ]
    },
    {
      "cell_type": "code",
      "metadata": {
        "id": "-qI09Sni0R5g",
        "colab_type": "code",
        "outputId": "bf13f1fb-f7ee-47d4-c743-46889667f680",
        "colab": {
          "base_uri": "https://localhost:8080/",
          "height": 516
        }
      },
      "source": [
        "model.compile(optimizer='adam', \n",
        "              loss='mean_squared_error')\n",
        "model.summary()"
      ],
      "execution_count": 0,
      "outputs": [
        {
          "output_type": "stream",
          "text": [
            "_________________________________________________________________\n",
            "Layer (type)                 Output Shape              Param #   \n",
            "=================================================================\n",
            "normalize (Lambda)           (None, 35, 80, 3)         0         \n",
            "_________________________________________________________________\n",
            "conv2d_29 (Conv2D)           (None, 16, 38, 24)        1824      \n",
            "_________________________________________________________________\n",
            "conv2d_30 (Conv2D)           (None, 6, 17, 36)         21636     \n",
            "_________________________________________________________________\n",
            "conv2d_31 (Conv2D)           (None, 4, 15, 48)         15600     \n",
            "_________________________________________________________________\n",
            "conv2d_32 (Conv2D)           (None, 2, 13, 64)         27712     \n",
            "_________________________________________________________________\n",
            "flatten_8 (Flatten)          (None, 1664)              0         \n",
            "_________________________________________________________________\n",
            "dense_29 (Dense)             (None, 100)               166500    \n",
            "_________________________________________________________________\n",
            "dense_30 (Dense)             (None, 50)                5050      \n",
            "_________________________________________________________________\n",
            "dense_31 (Dense)             (None, 10)                510       \n",
            "_________________________________________________________________\n",
            "dense_32 (Dense)             (None, 1)                 11        \n",
            "=================================================================\n",
            "Total params: 238,843\n",
            "Trainable params: 238,843\n",
            "Non-trainable params: 0\n",
            "_________________________________________________________________\n"
          ],
          "name": "stdout"
        }
      ]
    },
    {
      "cell_type": "markdown",
      "metadata": {
        "id": "05R2Z_jVjXKl",
        "colab_type": "text"
      },
      "source": [
        "### Trenowanie modelu"
      ]
    },
    {
      "cell_type": "code",
      "metadata": {
        "id": "9Sv-epZx0ph7",
        "colab_type": "code",
        "outputId": "710379f1-5d6e-4f82-9b81-77c6a4a7d39a",
        "colab": {
          "base_uri": "https://localhost:8080/",
          "height": 381
        }
      },
      "source": [
        "batch_size = 512\n",
        "epochs =12\n",
        "history = model.fit(Xgen, ygen,\n",
        "         batch_size=batch_size,\n",
        "         epochs=epochs,\n",
        "         validation_data=(X_val, y_val),\n",
        "         callbacks=[PlotLossesCallback()],\n",
        "         verbose=2)"
      ],
      "execution_count": 0,
      "outputs": [
        {
          "output_type": "display_data",
          "data": {
            "image/png": "[encoded data removed]",
            "text/plain": [
              "<Figure size 864x576 with 1 Axes>"
            ]
          },
          "metadata": {
            "tags": []
          }
        },
        {
          "output_type": "stream",
          "text": [
            "Mean squared error (cost function):\n",
            "training   (min:    0.079, max:    0.219, cur:    0.079)\n",
            "validation (min:    0.075, max:    0.106, cur:    0.077)\n"
          ],
          "name": "stdout"
        }
      ]
    },
    {
      "cell_type": "markdown",
      "metadata": {
        "id": "Qk0-atkKjhmq",
        "colab_type": "text"
      },
      "source": [
        "### Predykcja kąta sterowania "
      ]
    },
    {
      "cell_type": "code",
      "metadata": {
        "id": "iAr9dIxapKjz",
        "colab_type": "code",
        "outputId": "8cc66442-cc60-40e3-c962-710cb8126c49",
        "colab": {
          "base_uri": "https://localhost:8080/",
          "height": 283
        }
      },
      "source": [
        "y_pred = model.predict(X)\n",
        "\n",
        "\n",
        "# porównanie kąta sterowania y i y_pred\n",
        "plt.figure()\n",
        "plt.plot(y, 'g', y_pred,'r' )\n",
        "plt.xlabel('Image number');\n",
        "plt.ylabel('Steering angle');\n",
        "plt.legend(['y','y_pred']);\n",
        "\n",
        "plt.show();"
      ],
      "execution_count": 0,
      "outputs": [
        {
          "output_type": "display_data",
          "data": {
            "image/png": "[encoded data removed]",
            "text/plain": [
              "<Figure size 432x288 with 1 Axes>"
            ]
          },
          "metadata": {
            "tags": []
          }
        }
      ]
    },
    {
      "cell_type": "markdown",
      "metadata": {
        "id": "Timf5rgKjwrE",
        "colab_type": "text"
      },
      "source": [
        "### Zapis modelu do pliku"
      ]
    },
    {
      "cell_type": "code",
      "metadata": {
        "id": "UAFqTtXXpKmL",
        "colab_type": "code",
        "colab": {}
      },
      "source": [
        "model.save('cnn_model_nvidia1_b512_e12_relu.h5')"
      ],
      "execution_count": 0,
      "outputs": []
    },
    {
      "cell_type": "markdown",
      "metadata": {
        "id": "BF2plPRPj9zQ",
        "colab_type": "text"
      },
      "source": [
        "### Własna modyfikacja modelu NVIDIA"
      ]
    },
    {
      "cell_type": "code",
      "metadata": {
        "id": "1YXk-IhEr0ve",
        "colab_type": "code",
        "colab": {}
      },
      "source": [
        "def myModel(input_shape):\n",
        "  model = Sequential([\n",
        "      Lambda(lambda x: (x-128.0)/255.0, input_shape = input_shape, \n",
        "             name='normalize'),\n",
        "      \n",
        "      Conv2D(24,(5,5), activation = 'elu'),\n",
        "      MaxPooling2D(strides=(2,2)),\n",
        "                  \n",
        "      Conv2D(36,(5,5), activation = 'elu'),\n",
        "      MaxPooling2D(strides=(2,2)),\n",
        "                 \n",
        "      Conv2D(48,(3,3), activation = 'elu'),\n",
        "      MaxPooling2D(strides=(1,1)),\n",
        "           \n",
        "      Conv2D(64,(3,3), activation = 'elu'),\n",
        "      MaxPooling2D(strides=(1,1)),\n",
        "            \n",
        "      Flatten(),\n",
        "      \n",
        "      Dense(100, activation = 'elu'),\n",
        "      Dropout(rate=0.5),\n",
        "      Dense(100, activation = 'elu'),\n",
        "      Dropout(rate=0.25),\n",
        "      Dense(50, activation = 'elu'),\n",
        "      Dropout(rate=0.25),\n",
        "      Dense(10, activation = 'elu'),\n",
        "      Dense(1)\n",
        "      \n",
        "  ])\n",
        "  return model\n",
        "  model = myModel(X[0].shape)\n",
        "  "
      ],
      "execution_count": 0,
      "outputs": []
    },
    {
      "cell_type": "markdown",
      "metadata": {
        "id": "i5E-_YJZkGpl",
        "colab_type": "text"
      },
      "source": [
        "### Kompilacja modelu"
      ]
    },
    {
      "cell_type": "code",
      "metadata": {
        "id": "P4cyzZR4pKto",
        "colab_type": "code",
        "outputId": "eae1e640-cdef-4041-bc59-c99e9f96ed8a",
        "colab": {
          "base_uri": "https://localhost:8080/",
          "height": 516
        }
      },
      "source": [
        "model.compile(optimizer='adam', \n",
        "              loss='mean_squared_error')\n",
        "model.summary()"
      ],
      "execution_count": 0,
      "outputs": [
        {
          "output_type": "stream",
          "text": [
            "_________________________________________________________________\n",
            "Layer (type)                 Output Shape              Param #   \n",
            "=================================================================\n",
            "normalize (Lambda)           (None, 70, 80, 3)         0         \n",
            "_________________________________________________________________\n",
            "conv2d_5 (Conv2D)            (None, 33, 38, 24)        1824      \n",
            "_________________________________________________________________\n",
            "conv2d_6 (Conv2D)            (None, 15, 17, 36)        21636     \n",
            "_________________________________________________________________\n",
            "conv2d_7 (Conv2D)            (None, 13, 15, 48)        15600     \n",
            "_________________________________________________________________\n",
            "conv2d_8 (Conv2D)            (None, 11, 13, 64)        27712     \n",
            "_________________________________________________________________\n",
            "flatten_2 (Flatten)          (None, 9152)              0         \n",
            "_________________________________________________________________\n",
            "dense_5 (Dense)              (None, 100)               915300    \n",
            "_________________________________________________________________\n",
            "dense_6 (Dense)              (None, 50)                5050      \n",
            "_________________________________________________________________\n",
            "dense_7 (Dense)              (None, 10)                510       \n",
            "_________________________________________________________________\n",
            "dense_8 (Dense)              (None, 1)                 11        \n",
            "=================================================================\n",
            "Total params: 987,643\n",
            "Trainable params: 987,643\n",
            "Non-trainable params: 0\n",
            "_________________________________________________________________\n"
          ],
          "name": "stdout"
        }
      ]
    },
    {
      "cell_type": "markdown",
      "metadata": {
        "id": "z1lBUnf3kLpX",
        "colab_type": "text"
      },
      "source": [
        "### Trenowanie modelu"
      ]
    },
    {
      "cell_type": "code",
      "metadata": {
        "id": "sy0oNaMK7rx4",
        "colab_type": "code",
        "outputId": "8abead6c-233e-46fa-87e0-a0c035adf2a4",
        "colab": {
          "base_uri": "https://localhost:8080/",
          "height": 381
        }
      },
      "source": [
        "batch_size = 512\n",
        "epochs =30\n",
        "\n",
        "history = model.fit(Xgen, ygen,\n",
        "         batch_size=batch_size,\n",
        "         epochs=epochs,\n",
        "         validation_data=(X_val, y_val),\n",
        "         callbacks=[PlotLossesCallback()],\n",
        "         verbose=2)"
      ],
      "execution_count": 0,
      "outputs": [
        {
          "output_type": "display_data",
          "data": {
            "image/png": "[encoded data removed]",
            "text/plain": [
              "<Figure size 864x576 with 1 Axes>"
            ]
          },
          "metadata": {
            "tags": []
          }
        },
        {
          "output_type": "stream",
          "text": [
            "Mean squared error (cost function):\n",
            "training   (min:    0.004, max:    0.114, cur:    0.004)\n",
            "validation (min:    0.066, max:    0.102, cur:    0.101)\n"
          ],
          "name": "stdout"
        }
      ]
    },
    {
      "cell_type": "markdown",
      "metadata": {
        "id": "JzgdRkKmkQ7G",
        "colab_type": "text"
      },
      "source": [
        "### Predykcja y_pred"
      ]
    },
    {
      "cell_type": "code",
      "metadata": {
        "id": "XbVQ2OG88qh7",
        "colab_type": "code",
        "outputId": "660cedcc-2ddc-43ed-b65f-5457143b25f9",
        "colab": {
          "base_uri": "https://localhost:8080/",
          "height": 283
        }
      },
      "source": [
        "y_pred = model.predict(X)\n",
        "\n",
        "plt.figure()\n",
        "plt.plot(y,'g', y_pred,'r')\n",
        "plt.xlabel('Image number');\n",
        "plt.ylabel('Steering angle');\n",
        "plt.legend(['y','y_pred']);\n",
        "\n",
        "plt.show();"
      ],
      "execution_count": 0,
      "outputs": [
        {
          "output_type": "display_data",
          "data": {
            "image/png": "[encoded data removed]",
            "text/plain": [
              "<Figure size 432x288 with 1 Axes>"
            ]
          },
          "metadata": {
            "tags": []
          }
        }
      ]
    },
    {
      "cell_type": "markdown",
      "metadata": {
        "id": "MX3yHdObkaHD",
        "colab_type": "text"
      },
      "source": [
        "### Zapis modelu"
      ]
    },
    {
      "cell_type": "code",
      "metadata": {
        "id": "S5Vpuva_8tIY",
        "colab_type": "code",
        "colab": {}
      },
      "source": [
        "model.save('cnn_model_nvidia1mod_b512_e30_relu.h5')"
      ],
      "execution_count": 0,
      "outputs": []
    }
  ]
}